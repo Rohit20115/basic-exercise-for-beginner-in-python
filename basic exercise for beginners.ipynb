{
 "cells": [
  {
   "cell_type": "code",
   "execution_count": 2,
   "id": "70b65c60",
   "metadata": {},
   "outputs": [],
   "source": [
    "# Besic exercise for beginners: #"
   ]
  },
  {
   "cell_type": "code",
   "execution_count": 3,
   "id": "8d817c22",
   "metadata": {},
   "outputs": [],
   "source": [
    "#swap the number without using third variable.\n",
    "\n",
    "x = int(input(\"enter the first number\"))\n",
    "y = int(input(\"enter the second number\"))\n",
    "\n",
    "print(x,y)\n",
    "\n",
    "x = x+y\n",
    "y = x-y\n",
    "x = x-y\n",
    "\n",
    "print(x,y)"
   ]
  },
  {
   "cell_type": "code",
   "execution_count": null,
   "id": "4ec3a3cc",
   "metadata": {},
   "outputs": [
    {
     "name": "stdout",
     "output_type": "stream",
     "text": [
      "enter the number1234\n",
      "4 3 2 1\n"
     ]
    }
   ],
   "source": [
    "#write a program to extract each digit from an integer in the reverse order.\n",
    "\n",
    "n = input(\"enter the number\")\n",
    "\n",
    "y = n[::-1]\n",
    "\n",
    "k = \" \".join(y)\n",
    "\n",
    "print(k)"
   ]
  },
  {
   "cell_type": "code",
   "execution_count": null,
   "id": "c7bc4708",
   "metadata": {},
   "outputs": [
    {
     "name": "stdout",
     "output_type": "stream",
     "text": [
      "enter three digit number435\n",
      "12\n"
     ]
    }
   ],
   "source": [
    "#write a program to write that will give you the sum of 3  digits.\n",
    "\n",
    "x = int(input(\"enter three digit number\"))\n",
    "\n",
    "a = x%10\n",
    "\n",
    "num = x//10\n",
    "\n",
    "b = num%10\n",
    "\n",
    "c = num//10\n",
    "\n",
    "print(a+b+c)"
   ]
  },
  {
   "cell_type": "code",
   "execution_count": null,
   "id": "883ae89a",
   "metadata": {},
   "outputs": [
    {
     "name": "stdout",
     "output_type": "stream",
     "text": [
      "enter the four digit number 1234\n",
      "4321\n",
      "false\n"
     ]
    }
   ],
   "source": [
    "#write a program that will reverse a four digit number also it checks whether the reverse\n",
    "\n",
    "x = int(input(\"enter the four digit number \"))\n",
    "\n",
    "a = x%10\n",
    "\n",
    "num_1 = x//10\n",
    "\n",
    "b = num_1%10\n",
    "\n",
    "num_2 = num_1//10\n",
    "\n",
    "c = num_2%10\n",
    "\n",
    "d = num_2//10\n",
    "\n",
    "rev = a*1000+b*100+c*10+d\n",
    "\n",
    "print(rev)\n",
    "\n",
    "if x ==rev:\n",
    "    print(\"true\")\n",
    "else:\n",
    "    print(\"false\")"
   ]
  },
  {
   "cell_type": "code",
   "execution_count": null,
   "id": "621576b4",
   "metadata": {},
   "outputs": [],
   "source": [
    "#write a program to find the encledian distance between two coardinates.\n",
    "\n",
    "import math"
   ]
  },
  {
   "cell_type": "code",
   "execution_count": null,
   "id": "b55f72a7",
   "metadata": {},
   "outputs": [
    {
     "name": "stdout",
     "output_type": "stream",
     "text": [
      "x1: 4\n",
      "y1: 5\n",
      "x2: 6\n",
      "y2: 8\n",
      "====================================================================================================\n",
      "Eucledian distance for given co-ordinate will be 3.61\n"
     ]
    }
   ],
   "source": [
    "x1 = float(input(\"x1: \"))\n",
    "y1 = float(input(\"y1: \"))\n",
    "x2 = float(input(\"x2: \"))\n",
    "y2 = float(input(\"y2: \"))\n",
    "\n",
    "x = [x1,y1]\n",
    "y = [x2,y2]\n",
    "\n",
    "print(\"=\"*100)\n",
    "\n",
    "print(\"Eucledian distance for given co-ordinate will be\",round(math.dist(x,y),2))"
   ]
  },
  {
   "cell_type": "code",
   "execution_count": null,
   "id": "b570257e",
   "metadata": {},
   "outputs": [
    {
     "name": "stdout",
     "output_type": "stream",
     "text": [
      "enter the number 12\n",
      "the number is devided by 3&6\n"
     ]
    }
   ],
   "source": [
    "#write a program that will tell whether the given number is divided by 3&6.\n",
    "\n",
    "num = int(input(\"enter the number \"))\n",
    "\n",
    "if num%3 == 0 and num%6 == 0:\n",
    "    print(\"the number is devided by 3&6\")\n",
    "else:\n",
    "    print(\"the number is not devided by 3&6\")"
   ]
  },
  {
   "cell_type": "code",
   "execution_count": null,
   "id": "a666d6cc",
   "metadata": {},
   "outputs": [
    {
     "name": "stdout",
     "output_type": "stream",
     "text": [
      "enter the three digit number : 232\n",
      "17\n"
     ]
    }
   ],
   "source": [
    "#write a program that will take three digits from the user and add the square of each digit.\n",
    "\n",
    "n = int(input(\"enter the three digit number : \"))\n",
    "\n",
    "a = n%10\n",
    "\n",
    "num = n//10\n",
    "\n",
    "b = num%10\n",
    "\n",
    "c = num//10\n",
    "\n",
    "output_value = (a**2)+(b**2)+(c**2)\n",
    "\n",
    "print(output_value)"
   ]
  },
  {
   "cell_type": "code",
   "execution_count": null,
   "id": "739dff14",
   "metadata": {},
   "outputs": [
    {
     "name": "stdout",
     "output_type": "stream",
     "text": [
      "enter the three digit number: 371\n",
      "the number is armstrong number \n"
     ]
    }
   ],
   "source": [
    "#white a program that will check whether the number is armstrong number or not.\n",
    "\n",
    "n = int(input(\"enter the three digit number: \"))\n",
    "\n",
    "a = n%10\n",
    "\n",
    "num = n//10\n",
    "\n",
    "b = num%10\n",
    "\n",
    "c = num//10\n",
    "\n",
    "if(a**3)+(b**3)+(c**3)==n:\n",
    "    print(\"the number is armstrong number \")\n",
    "else:\n",
    "    print(\"the number is not armstrong number\")"
   ]
  },
  {
   "cell_type": "code",
   "execution_count": null,
   "id": "6c12e527",
   "metadata": {},
   "outputs": [
    {
     "name": "stdout",
     "output_type": "stream",
     "text": [
      "enter the four digit number: 1232\n",
      "the number is not narcissist number\n"
     ]
    }
   ],
   "source": [
    "#write a program that will take user input of (4 digit number)and check whether the numbe is narcissist number or not.\n",
    "\n",
    "n = int(input(\"enter the four digit number: \"))\n",
    "\n",
    "a = n%10\n",
    "\n",
    "num = n//10\n",
    "\n",
    "b = num%10\n",
    "\n",
    "num_1 = num//10\n",
    "\n",
    "c = num_1%10\n",
    "\n",
    "d = num_1//10\n",
    "\n",
    "if(a**4)+(b**4)+(c**4)==n:\n",
    "    print(\"the number is narcissist number\")\n",
    "else:\n",
    "    print(\"the number is not narcissist number\")"
   ]
  }
 ],
 "metadata": {
  "kernelspec": {
   "display_name": "Python 3 (ipykernel)",
   "language": "python",
   "name": "python3"
  },
  "language_info": {
   "codemirror_mode": {
    "name": "ipython",
    "version": 3
   },
   "file_extension": ".py",
   "mimetype": "text/x-python",
   "name": "python",
   "nbconvert_exporter": "python",
   "pygments_lexer": "ipython3",
   "version": "3.12.1"
  }
 },
 "nbformat": 4,
 "nbformat_minor": 5
}
